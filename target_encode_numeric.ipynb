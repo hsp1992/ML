{
  "cells": [
    {
      "cell_type": "markdown",
      "metadata": {
        "id": "view-in-github",
        "colab_type": "text"
      },
      "source": [
        "<a href=\"https://colab.research.google.com/github/sunpil506/ML/blob/main/target_encode_numeric.ipynb\" target=\"_parent\"><img src=\"https://colab.research.google.com/assets/colab-badge.svg\" alt=\"Open In Colab\"/></a>"
      ]
    },
    {
      "cell_type": "markdown",
      "metadata": {
        "id": "U8hlBKkRW4H6"
      },
      "source": [
        "# License \n",
        "***\n",
        "Copyright (C) 2017 -- 2022 J. Patrick Hall, jphall@gwu.edu\n",
        "\n",
        "Permission is hereby granted, free of charge, to any person obtaining a copy of this software and associated documentation files (the \"Software\"), to deal in the Software without restriction, including without limitation the rights to use, copy, modify, merge, publish, distribute, sublicense, and/or sell copies of the Software, and to permit persons to whom the Software is furnished to do so, subject to the following conditions:\n",
        "\n",
        "The above copyright notice and this permission notice shall be included in all copies or substantial portions of the Software.\n",
        "\n",
        "THE SOFTWARE IS PROVIDED \"AS IS\", WITHOUT WARRANTY OF ANY KIND, EXPRESS OR IMPLIED, INCLUDING BUT NOT LIMITED TO THE WARRANTIES OF MERCHANTABILITY, FITNESS FOR A PARTICULAR PURPOSE AND NONINFRINGEMENT. IN NO EVENT SHALL THE AUTHORS OR COPYRIGHT HOLDERS BE LIABLE FOR ANY CLAIM, DAMAGES OR OTHER LIABILITY, WHETHER IN AN ACTION OF CONTRACT, TORT OR OTHERWISE, ARISING FROM, OUT OF OR IN CONNECTION WITH THE SOFTWARE OR THE USE OR OTHER DEALINGS IN THE SOFTWARE."
      ]
    },
    {
      "cell_type": "markdown",
      "metadata": {
        "id": "qJoE-zNoW4ID"
      },
      "source": [
        "***\n",
        "# Simple target encoding: average-by-level - Pandas and numpy"
      ]
    },
    {
      "cell_type": "markdown",
      "metadata": {
        "id": "B-bCl74oW4IE"
      },
      "source": [
        "## Imports"
      ]
    },
    {
      "cell_type": "code",
      "execution_count": null,
      "metadata": {
        "collapsed": true,
        "id": "Bz1E_vx0W4IF"
      },
      "outputs": [],
      "source": [
        "import pandas as pd               # pandas for handling mixed data sets \n",
        "import numpy as np                # numpy for basic math and matrix operations\n",
        "from numpy.random import uniform  # numpy for basic math and matrix operations"
      ]
    },
    {
      "cell_type": "markdown",
      "metadata": {
        "id": "cH-Qips1W4IH"
      },
      "source": [
        "#### Create a sample data set"
      ]
    },
    {
      "cell_type": "code",
      "execution_count": null,
      "metadata": {
        "id": "7hkowbDjW4IH",
        "outputId": "8bb1de7d-3d7f-4423-c458-1622311c7c18"
      },
      "outputs": [
        {
          "data": {
            "text/html": [
              "<div>\n",
              "<table border=\"1\" class=\"dataframe\">\n",
              "  <thead>\n",
              "    <tr style=\"text-align: right;\">\n",
              "      <th></th>\n",
              "      <th>x1</th>\n",
              "      <th>x2</th>\n",
              "      <th>y</th>\n",
              "    </tr>\n",
              "  </thead>\n",
              "  <tbody>\n",
              "    <tr>\n",
              "      <th>0</th>\n",
              "      <td>A</td>\n",
              "      <td>C</td>\n",
              "      <td>158</td>\n",
              "    </tr>\n",
              "    <tr>\n",
              "      <th>1</th>\n",
              "      <td>A</td>\n",
              "      <td>D</td>\n",
              "      <td>707</td>\n",
              "    </tr>\n",
              "    <tr>\n",
              "      <th>2</th>\n",
              "      <td>A</td>\n",
              "      <td>D</td>\n",
              "      <td>674</td>\n",
              "    </tr>\n",
              "    <tr>\n",
              "      <th>3</th>\n",
              "      <td>A</td>\n",
              "      <td>D</td>\n",
              "      <td>951</td>\n",
              "    </tr>\n",
              "    <tr>\n",
              "      <th>4</th>\n",
              "      <td>A</td>\n",
              "      <td>C</td>\n",
              "      <td>248</td>\n",
              "    </tr>\n",
              "    <tr>\n",
              "      <th>5</th>\n",
              "      <td>B</td>\n",
              "      <td>C</td>\n",
              "      <td>942</td>\n",
              "    </tr>\n",
              "    <tr>\n",
              "      <th>6</th>\n",
              "      <td>B</td>\n",
              "      <td>E</td>\n",
              "      <td>931</td>\n",
              "    </tr>\n",
              "    <tr>\n",
              "      <th>7</th>\n",
              "      <td>B</td>\n",
              "      <td>C</td>\n",
              "      <td>523</td>\n",
              "    </tr>\n",
              "    <tr>\n",
              "      <th>8</th>\n",
              "      <td>B</td>\n",
              "      <td>E</td>\n",
              "      <td>405</td>\n",
              "    </tr>\n",
              "    <tr>\n",
              "      <th>9</th>\n",
              "      <td>B</td>\n",
              "      <td>E</td>\n",
              "      <td>569</td>\n",
              "    </tr>\n",
              "  </tbody>\n",
              "</table>\n",
              "</div>"
            ],
            "text/plain": [
              "  x1 x2    y\n",
              "0  A  C  158\n",
              "1  A  D  707\n",
              "2  A  D  674\n",
              "3  A  D  951\n",
              "4  A  C  248\n",
              "5  B  C  942\n",
              "6  B  E  931\n",
              "7  B  C  523\n",
              "8  B  E  405\n",
              "9  B  E  569"
            ]
          },
          "execution_count": 6,
          "metadata": {},
          "output_type": "execute_result"
        }
      ],
      "source": [
        "scratch_df = pd.DataFrame({'x1': ['A', 'A', 'A', 'A', 'A', 'B', 'B', 'B', 'B', 'B'],\n",
        "                           'x2': ['C', 'D', 'D', 'D', 'C', 'C', 'E', 'C', 'E', 'E'],\n",
        "                            'y': pd.Series(np.random.choice(1000, 10))})\n",
        "scratch_df"
      ]
    },
    {
      "cell_type": "markdown",
      "metadata": {
        "id": "Ekpef0ZnW4IJ"
      },
      "source": [
        "#### Encode categorical variables using a rate-by-level approach "
      ]
    },
    {
      "cell_type": "code",
      "execution_count": null,
      "metadata": {
        "id": "9RTUTKtIW4IJ",
        "outputId": "6c6369e2-da55-4fab-bbff-fa5e86d024f7"
      },
      "outputs": [
        {
          "data": {
            "text/html": [
              "<div>\n",
              "<table border=\"1\" class=\"dataframe\">\n",
              "  <thead>\n",
              "    <tr style=\"text-align: right;\">\n",
              "      <th></th>\n",
              "      <th>x1</th>\n",
              "      <th>x2</th>\n",
              "      <th>y</th>\n",
              "      <th>x1_encode</th>\n",
              "      <th>x2_encode</th>\n",
              "    </tr>\n",
              "  </thead>\n",
              "  <tbody>\n",
              "    <tr>\n",
              "      <th>0</th>\n",
              "      <td>A</td>\n",
              "      <td>C</td>\n",
              "      <td>158</td>\n",
              "      <td>547.6</td>\n",
              "      <td>467.750000</td>\n",
              "    </tr>\n",
              "    <tr>\n",
              "      <th>1</th>\n",
              "      <td>A</td>\n",
              "      <td>D</td>\n",
              "      <td>707</td>\n",
              "      <td>547.6</td>\n",
              "      <td>777.333333</td>\n",
              "    </tr>\n",
              "    <tr>\n",
              "      <th>2</th>\n",
              "      <td>A</td>\n",
              "      <td>D</td>\n",
              "      <td>674</td>\n",
              "      <td>547.6</td>\n",
              "      <td>777.333333</td>\n",
              "    </tr>\n",
              "    <tr>\n",
              "      <th>3</th>\n",
              "      <td>A</td>\n",
              "      <td>D</td>\n",
              "      <td>951</td>\n",
              "      <td>547.6</td>\n",
              "      <td>777.333333</td>\n",
              "    </tr>\n",
              "    <tr>\n",
              "      <th>4</th>\n",
              "      <td>A</td>\n",
              "      <td>C</td>\n",
              "      <td>248</td>\n",
              "      <td>547.6</td>\n",
              "      <td>467.750000</td>\n",
              "    </tr>\n",
              "    <tr>\n",
              "      <th>5</th>\n",
              "      <td>B</td>\n",
              "      <td>C</td>\n",
              "      <td>942</td>\n",
              "      <td>674.0</td>\n",
              "      <td>467.750000</td>\n",
              "    </tr>\n",
              "    <tr>\n",
              "      <th>6</th>\n",
              "      <td>B</td>\n",
              "      <td>E</td>\n",
              "      <td>931</td>\n",
              "      <td>674.0</td>\n",
              "      <td>635.000000</td>\n",
              "    </tr>\n",
              "    <tr>\n",
              "      <th>7</th>\n",
              "      <td>B</td>\n",
              "      <td>C</td>\n",
              "      <td>523</td>\n",
              "      <td>674.0</td>\n",
              "      <td>467.750000</td>\n",
              "    </tr>\n",
              "    <tr>\n",
              "      <th>8</th>\n",
              "      <td>B</td>\n",
              "      <td>E</td>\n",
              "      <td>405</td>\n",
              "      <td>674.0</td>\n",
              "      <td>635.000000</td>\n",
              "    </tr>\n",
              "    <tr>\n",
              "      <th>9</th>\n",
              "      <td>B</td>\n",
              "      <td>E</td>\n",
              "      <td>569</td>\n",
              "      <td>674.0</td>\n",
              "      <td>635.000000</td>\n",
              "    </tr>\n",
              "  </tbody>\n",
              "</table>\n",
              "</div>"
            ],
            "text/plain": [
              "  x1 x2    y  x1_encode   x2_encode\n",
              "0  A  C  158      547.6  467.750000\n",
              "1  A  D  707      547.6  777.333333\n",
              "2  A  D  674      547.6  777.333333\n",
              "3  A  D  951      547.6  777.333333\n",
              "4  A  C  248      547.6  467.750000\n",
              "5  B  C  942      674.0  467.750000\n",
              "6  B  E  931      674.0  635.000000\n",
              "7  B  C  523      674.0  467.750000\n",
              "8  B  E  405      674.0  635.000000\n",
              "9  B  E  569      674.0  635.000000"
            ]
          },
          "execution_count": 7,
          "metadata": {},
          "output_type": "execute_result"
        }
      ],
      "source": [
        "# make a new deep copy of scratch_df \n",
        "# so you can run this cell many times w/o errors\n",
        "scratch_df1 = scratch_df.copy()\n",
        "\n",
        "# loop through columns to create new encoded columns \n",
        "for col_name in scratch_df.columns[:-1]:\n",
        "    new_col_name = col_name + '_encode'   \n",
        "    # create a dictionary of original categorical value:average y for that value\n",
        "    row_val_dict = {}\n",
        "    for level in scratch_df[col_name].unique():\n",
        "        row_val_dict[level] = scratch_df[scratch_df[col_name] == level]['y'].mean()\n",
        "    # apply the transform from the dictionary on all rows in the column\n",
        "    scratch_df1[new_col_name] = scratch_df[col_name].apply(lambda i: row_val_dict[i])   \n",
        "        \n",
        "scratch_df1"
      ]
    },
    {
      "cell_type": "markdown",
      "metadata": {
        "id": "tMXYEYgjW4IL"
      },
      "source": [
        "#### Perturb to prevent overfitting"
      ]
    },
    {
      "cell_type": "code",
      "execution_count": null,
      "metadata": {
        "id": "czZHjG16W4IQ",
        "outputId": "dbf97c67-196b-4ac6-842a-a392cac89fc6"
      },
      "outputs": [
        {
          "data": {
            "text/html": [
              "<div>\n",
              "<table border=\"1\" class=\"dataframe\">\n",
              "  <thead>\n",
              "    <tr style=\"text-align: right;\">\n",
              "      <th></th>\n",
              "      <th>x1</th>\n",
              "      <th>x2</th>\n",
              "      <th>y</th>\n",
              "      <th>x1_encode</th>\n",
              "      <th>x2_encode</th>\n",
              "    </tr>\n",
              "  </thead>\n",
              "  <tbody>\n",
              "    <tr>\n",
              "      <th>0</th>\n",
              "      <td>A</td>\n",
              "      <td>C</td>\n",
              "      <td>158</td>\n",
              "      <td>549.272525</td>\n",
              "      <td>472.079463</td>\n",
              "    </tr>\n",
              "    <tr>\n",
              "      <th>1</th>\n",
              "      <td>A</td>\n",
              "      <td>D</td>\n",
              "      <td>707</td>\n",
              "      <td>550.507909</td>\n",
              "      <td>774.249363</td>\n",
              "    </tr>\n",
              "    <tr>\n",
              "      <th>2</th>\n",
              "      <td>A</td>\n",
              "      <td>D</td>\n",
              "      <td>674</td>\n",
              "      <td>552.234351</td>\n",
              "      <td>780.370135</td>\n",
              "    </tr>\n",
              "    <tr>\n",
              "      <th>3</th>\n",
              "      <td>A</td>\n",
              "      <td>D</td>\n",
              "      <td>951</td>\n",
              "      <td>545.406594</td>\n",
              "      <td>774.984095</td>\n",
              "    </tr>\n",
              "    <tr>\n",
              "      <th>4</th>\n",
              "      <td>A</td>\n",
              "      <td>C</td>\n",
              "      <td>248</td>\n",
              "      <td>546.832261</td>\n",
              "      <td>465.229813</td>\n",
              "    </tr>\n",
              "    <tr>\n",
              "      <th>5</th>\n",
              "      <td>B</td>\n",
              "      <td>C</td>\n",
              "      <td>942</td>\n",
              "      <td>678.281481</td>\n",
              "      <td>467.124270</td>\n",
              "    </tr>\n",
              "    <tr>\n",
              "      <th>6</th>\n",
              "      <td>B</td>\n",
              "      <td>E</td>\n",
              "      <td>931</td>\n",
              "      <td>673.194447</td>\n",
              "      <td>638.293288</td>\n",
              "    </tr>\n",
              "    <tr>\n",
              "      <th>7</th>\n",
              "      <td>B</td>\n",
              "      <td>C</td>\n",
              "      <td>523</td>\n",
              "      <td>674.193392</td>\n",
              "      <td>463.425045</td>\n",
              "    </tr>\n",
              "    <tr>\n",
              "      <th>8</th>\n",
              "      <td>B</td>\n",
              "      <td>E</td>\n",
              "      <td>405</td>\n",
              "      <td>677.787234</td>\n",
              "      <td>639.248453</td>\n",
              "    </tr>\n",
              "    <tr>\n",
              "      <th>9</th>\n",
              "      <td>B</td>\n",
              "      <td>E</td>\n",
              "      <td>569</td>\n",
              "      <td>674.505306</td>\n",
              "      <td>632.268885</td>\n",
              "    </tr>\n",
              "  </tbody>\n",
              "</table>\n",
              "</div>"
            ],
            "text/plain": [
              "  x1 x2    y   x1_encode   x2_encode\n",
              "0  A  C  158  549.272525  472.079463\n",
              "1  A  D  707  550.507909  774.249363\n",
              "2  A  D  674  552.234351  780.370135\n",
              "3  A  D  951  545.406594  774.984095\n",
              "4  A  C  248  546.832261  465.229813\n",
              "5  B  C  942  678.281481  467.124270\n",
              "6  B  E  931  673.194447  638.293288\n",
              "7  B  C  523  674.193392  463.425045\n",
              "8  B  E  405  677.787234  639.248453\n",
              "9  B  E  569  674.505306  632.268885"
            ]
          },
          "execution_count": 9,
          "metadata": {},
          "output_type": "execute_result"
        }
      ],
      "source": [
        "# make a new deep copy of scratch_df \n",
        "# so you can run this cell many times w/o errors\n",
        "scratch_df2 = scratch_df.copy()\n",
        "\n",
        "# loop through columns to create new encoded columns\n",
        "for col_name in scratch_df.columns[:-1]:\n",
        "    new_col_name = col_name + '_encode'   \n",
        "    row_val_dict = {}\n",
        "    # create a dictionary of original categorical value:average y for that value\n",
        "    for level in scratch_df[col_name].unique():\n",
        "        # apply the transform from the dictionary on all rows in the column\n",
        "        # add in a little random noise, can prevent overfitting for rare levels\n",
        "        row_val_dict[level] = (scratch_df[scratch_df[col_name] == level]['y'].mean())\n",
        "    scratch_df2[new_col_name] = scratch_df[col_name].apply(lambda i: row_val_dict[i] + uniform(low=-5, high=5))   \n",
        "        \n",
        "scratch_df2"
      ]
    }
  ],
  "metadata": {
    "anaconda-cloud": {},
    "kernelspec": {
      "display_name": "Python [conda root]",
      "language": "python",
      "name": "conda-root-py"
    },
    "language_info": {
      "codemirror_mode": {
        "name": "ipython",
        "version": 3
      },
      "file_extension": ".py",
      "mimetype": "text/x-python",
      "name": "python",
      "nbconvert_exporter": "python",
      "pygments_lexer": "ipython3",
      "version": "3.5.2"
    },
    "colab": {
      "name": "target_encode_numeric.ipynb",
      "provenance": [],
      "collapsed_sections": [],
      "include_colab_link": true
    }
  },
  "nbformat": 4,
  "nbformat_minor": 0
}