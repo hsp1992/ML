{
  "cells": [
    {
      "cell_type": "markdown",
      "metadata": {
        "id": "view-in-github",
        "colab_type": "text"
      },
      "source": [
        "<a href=\"https://colab.research.google.com/github/sunpil506/ML/blob/main/target_encode_categorical.ipynb\" target=\"_parent\"><img src=\"https://colab.research.google.com/assets/colab-badge.svg\" alt=\"Open In Colab\"/></a>"
      ]
    },
    {
      "cell_type": "markdown",
      "metadata": {
        "id": "xLjiwvOIXBcv"
      },
      "source": [
        "# License \n",
        "***\n",
        "Copyright (C) 2017 -- 2022 J. Patrick Hall, jphall@gwu.edu\n",
        "\n",
        "Permission is hereby granted, free of charge, to any person obtaining a copy of this software and associated documentation files (the \"Software\"), to deal in the Software without restriction, including without limitation the rights to use, copy, modify, merge, publish, distribute, sublicense, and/or sell copies of the Software, and to permit persons to whom the Software is furnished to do so, subject to the following conditions:\n",
        "\n",
        "The above copyright notice and this permission notice shall be included in all copies or substantial portions of the Software.\n",
        "\n",
        "THE SOFTWARE IS PROVIDED \"AS IS\", WITHOUT WARRANTY OF ANY KIND, EXPRESS OR IMPLIED, INCLUDING BUT NOT LIMITED TO THE WARRANTIES OF MERCHANTABILITY, FITNESS FOR A PARTICULAR PURPOSE AND NONINFRINGEMENT. IN NO EVENT SHALL THE AUTHORS OR COPYRIGHT HOLDERS BE LIABLE FOR ANY CLAIM, DAMAGES OR OTHER LIABILITY, WHETHER IN AN ACTION OF CONTRACT, TORT OR OTHERWISE, ARISING FROM, OUT OF OR IN CONNECTION WITH THE SOFTWARE OR THE USE OR OTHER DEALINGS IN THE SOFTWARE."
      ]
    },
    {
      "cell_type": "markdown",
      "metadata": {
        "id": "uvOsQd3JXBc5"
      },
      "source": [
        "***\n",
        "# Simple target encoding: rate-by-level - Pandas and numpy"
      ]
    },
    {
      "cell_type": "markdown",
      "metadata": {
        "id": "Uw6JisLLXBc7"
      },
      "source": [
        "## Imports"
      ]
    },
    {
      "cell_type": "code",
      "execution_count": null,
      "metadata": {
        "collapsed": true,
        "id": "Mo30imuqXBc8"
      },
      "outputs": [],
      "source": [
        "import pandas as pd               # pandas for handling mixed data sets \n",
        "from numpy.random import uniform  # numpy for basic math and matrix operations"
      ]
    },
    {
      "cell_type": "markdown",
      "metadata": {
        "id": "UrenXq-bXBdA"
      },
      "source": [
        "#### Create a sample data set"
      ]
    },
    {
      "cell_type": "code",
      "execution_count": null,
      "metadata": {
        "id": "M-VObi0yXBdA",
        "outputId": "85d233ff-9981-4dc2-e6cc-61ccc3189c5b"
      },
      "outputs": [
        {
          "data": {
            "text/html": [
              "<div>\n",
              "<table border=\"1\" class=\"dataframe\">\n",
              "  <thead>\n",
              "    <tr style=\"text-align: right;\">\n",
              "      <th></th>\n",
              "      <th>x1</th>\n",
              "      <th>x2</th>\n",
              "      <th>y</th>\n",
              "    </tr>\n",
              "  </thead>\n",
              "  <tbody>\n",
              "    <tr>\n",
              "      <th>0</th>\n",
              "      <td>A</td>\n",
              "      <td>C</td>\n",
              "      <td>0</td>\n",
              "    </tr>\n",
              "    <tr>\n",
              "      <th>1</th>\n",
              "      <td>A</td>\n",
              "      <td>D</td>\n",
              "      <td>0</td>\n",
              "    </tr>\n",
              "    <tr>\n",
              "      <th>2</th>\n",
              "      <td>A</td>\n",
              "      <td>D</td>\n",
              "      <td>1</td>\n",
              "    </tr>\n",
              "    <tr>\n",
              "      <th>3</th>\n",
              "      <td>A</td>\n",
              "      <td>D</td>\n",
              "      <td>0</td>\n",
              "    </tr>\n",
              "    <tr>\n",
              "      <th>4</th>\n",
              "      <td>A</td>\n",
              "      <td>C</td>\n",
              "      <td>1</td>\n",
              "    </tr>\n",
              "    <tr>\n",
              "      <th>5</th>\n",
              "      <td>B</td>\n",
              "      <td>C</td>\n",
              "      <td>1</td>\n",
              "    </tr>\n",
              "    <tr>\n",
              "      <th>6</th>\n",
              "      <td>B</td>\n",
              "      <td>E</td>\n",
              "      <td>1</td>\n",
              "    </tr>\n",
              "    <tr>\n",
              "      <th>7</th>\n",
              "      <td>B</td>\n",
              "      <td>C</td>\n",
              "      <td>1</td>\n",
              "    </tr>\n",
              "    <tr>\n",
              "      <th>8</th>\n",
              "      <td>B</td>\n",
              "      <td>E</td>\n",
              "      <td>0</td>\n",
              "    </tr>\n",
              "    <tr>\n",
              "      <th>9</th>\n",
              "      <td>B</td>\n",
              "      <td>E</td>\n",
              "      <td>1</td>\n",
              "    </tr>\n",
              "  </tbody>\n",
              "</table>\n",
              "</div>"
            ],
            "text/plain": [
              "  x1 x2  y\n",
              "0  A  C  0\n",
              "1  A  D  0\n",
              "2  A  D  1\n",
              "3  A  D  0\n",
              "4  A  C  1\n",
              "5  B  C  1\n",
              "6  B  E  1\n",
              "7  B  C  1\n",
              "8  B  E  0\n",
              "9  B  E  1"
            ]
          },
          "execution_count": 39,
          "metadata": {},
          "output_type": "execute_result"
        }
      ],
      "source": [
        "scratch_df = pd.DataFrame({'x1': ['A', 'A', 'A', 'A', 'A', 'B', 'B', 'B', 'B', 'B'],\n",
        "                           'x2': ['C', 'D', 'D', 'D', 'C', 'C', 'E', 'C', 'E', 'E'],\n",
        "                            'y': [0, 0, 1, 0, 1, 1, 1, 1, 0, 1]})\n",
        "scratch_df"
      ]
    },
    {
      "cell_type": "markdown",
      "metadata": {
        "id": "W2FX8a7lXBdC"
      },
      "source": [
        "#### Encode categorical variables using a rate-by-level approach "
      ]
    },
    {
      "cell_type": "code",
      "execution_count": null,
      "metadata": {
        "id": "KSvGuTRrXBdD",
        "outputId": "5526d8f0-553c-4acb-f9e7-b074b82ea985"
      },
      "outputs": [
        {
          "data": {
            "text/html": [
              "<div>\n",
              "<table border=\"1\" class=\"dataframe\">\n",
              "  <thead>\n",
              "    <tr style=\"text-align: right;\">\n",
              "      <th></th>\n",
              "      <th>x1</th>\n",
              "      <th>x2</th>\n",
              "      <th>y</th>\n",
              "      <th>x1_encode</th>\n",
              "      <th>x2_encode</th>\n",
              "    </tr>\n",
              "  </thead>\n",
              "  <tbody>\n",
              "    <tr>\n",
              "      <th>0</th>\n",
              "      <td>A</td>\n",
              "      <td>C</td>\n",
              "      <td>0</td>\n",
              "      <td>0.4</td>\n",
              "      <td>0.750000</td>\n",
              "    </tr>\n",
              "    <tr>\n",
              "      <th>1</th>\n",
              "      <td>A</td>\n",
              "      <td>D</td>\n",
              "      <td>0</td>\n",
              "      <td>0.4</td>\n",
              "      <td>0.333333</td>\n",
              "    </tr>\n",
              "    <tr>\n",
              "      <th>2</th>\n",
              "      <td>A</td>\n",
              "      <td>D</td>\n",
              "      <td>1</td>\n",
              "      <td>0.4</td>\n",
              "      <td>0.333333</td>\n",
              "    </tr>\n",
              "    <tr>\n",
              "      <th>3</th>\n",
              "      <td>A</td>\n",
              "      <td>D</td>\n",
              "      <td>0</td>\n",
              "      <td>0.4</td>\n",
              "      <td>0.333333</td>\n",
              "    </tr>\n",
              "    <tr>\n",
              "      <th>4</th>\n",
              "      <td>A</td>\n",
              "      <td>C</td>\n",
              "      <td>1</td>\n",
              "      <td>0.4</td>\n",
              "      <td>0.750000</td>\n",
              "    </tr>\n",
              "    <tr>\n",
              "      <th>5</th>\n",
              "      <td>B</td>\n",
              "      <td>C</td>\n",
              "      <td>1</td>\n",
              "      <td>0.8</td>\n",
              "      <td>0.750000</td>\n",
              "    </tr>\n",
              "    <tr>\n",
              "      <th>6</th>\n",
              "      <td>B</td>\n",
              "      <td>E</td>\n",
              "      <td>1</td>\n",
              "      <td>0.8</td>\n",
              "      <td>0.666667</td>\n",
              "    </tr>\n",
              "    <tr>\n",
              "      <th>7</th>\n",
              "      <td>B</td>\n",
              "      <td>C</td>\n",
              "      <td>1</td>\n",
              "      <td>0.8</td>\n",
              "      <td>0.750000</td>\n",
              "    </tr>\n",
              "    <tr>\n",
              "      <th>8</th>\n",
              "      <td>B</td>\n",
              "      <td>E</td>\n",
              "      <td>0</td>\n",
              "      <td>0.8</td>\n",
              "      <td>0.666667</td>\n",
              "    </tr>\n",
              "    <tr>\n",
              "      <th>9</th>\n",
              "      <td>B</td>\n",
              "      <td>E</td>\n",
              "      <td>1</td>\n",
              "      <td>0.8</td>\n",
              "      <td>0.666667</td>\n",
              "    </tr>\n",
              "  </tbody>\n",
              "</table>\n",
              "</div>"
            ],
            "text/plain": [
              "  x1 x2  y  x1_encode  x2_encode\n",
              "0  A  C  0        0.4   0.750000\n",
              "1  A  D  0        0.4   0.333333\n",
              "2  A  D  1        0.4   0.333333\n",
              "3  A  D  0        0.4   0.333333\n",
              "4  A  C  1        0.4   0.750000\n",
              "5  B  C  1        0.8   0.750000\n",
              "6  B  E  1        0.8   0.666667\n",
              "7  B  C  1        0.8   0.750000\n",
              "8  B  E  0        0.8   0.666667\n",
              "9  B  E  1        0.8   0.666667"
            ]
          },
          "execution_count": 44,
          "metadata": {},
          "output_type": "execute_result"
        }
      ],
      "source": [
        "# make a new deep copy of scratch_df \n",
        "# so you can run this cell many times w/o errors\n",
        "scratch_df1 = scratch_df.copy()\n",
        "\n",
        "# loop through columns to create new encoded columns \n",
        "for col_name in scratch_df.columns[:-1]:\n",
        "    new_col_name = col_name + '_encode'   \n",
        "    # create a dictionary of original categorical value:event rate for that value\n",
        "    row_val_dict = {}\n",
        "    for level in scratch_df[col_name].unique():\n",
        "        row_val_dict[level] = scratch_df[scratch_df[col_name] == level]['y'].mean()\n",
        "    # apply the transform from the dictionary on all rows in the column\n",
        "    scratch_df1[new_col_name] = scratch_df[col_name].apply(lambda i: row_val_dict[i])   \n",
        "        \n",
        "scratch_df1"
      ]
    },
    {
      "cell_type": "markdown",
      "metadata": {
        "id": "JWyr4RbUXBdE"
      },
      "source": [
        "#### Perturb to prevent overfitting"
      ]
    },
    {
      "cell_type": "code",
      "execution_count": null,
      "metadata": {
        "id": "rkJ8U7TPXBdF",
        "outputId": "e47fe212-f01a-4d0b-e65b-1c7d644c6cb8"
      },
      "outputs": [
        {
          "data": {
            "text/html": [
              "<div>\n",
              "<table border=\"1\" class=\"dataframe\">\n",
              "  <thead>\n",
              "    <tr style=\"text-align: right;\">\n",
              "      <th></th>\n",
              "      <th>x1</th>\n",
              "      <th>x2</th>\n",
              "      <th>y</th>\n",
              "      <th>x1_encode</th>\n",
              "      <th>x2_encode</th>\n",
              "    </tr>\n",
              "  </thead>\n",
              "  <tbody>\n",
              "    <tr>\n",
              "      <th>0</th>\n",
              "      <td>A</td>\n",
              "      <td>C</td>\n",
              "      <td>0</td>\n",
              "      <td>0.396660</td>\n",
              "      <td>0.752811</td>\n",
              "    </tr>\n",
              "    <tr>\n",
              "      <th>1</th>\n",
              "      <td>A</td>\n",
              "      <td>D</td>\n",
              "      <td>0</td>\n",
              "      <td>0.374276</td>\n",
              "      <td>0.359561</td>\n",
              "    </tr>\n",
              "    <tr>\n",
              "      <th>2</th>\n",
              "      <td>A</td>\n",
              "      <td>D</td>\n",
              "      <td>1</td>\n",
              "      <td>0.385120</td>\n",
              "      <td>0.362976</td>\n",
              "    </tr>\n",
              "    <tr>\n",
              "      <th>3</th>\n",
              "      <td>A</td>\n",
              "      <td>D</td>\n",
              "      <td>0</td>\n",
              "      <td>0.366503</td>\n",
              "      <td>0.353950</td>\n",
              "    </tr>\n",
              "    <tr>\n",
              "      <th>4</th>\n",
              "      <td>A</td>\n",
              "      <td>C</td>\n",
              "      <td>1</td>\n",
              "      <td>0.408456</td>\n",
              "      <td>0.704154</td>\n",
              "    </tr>\n",
              "    <tr>\n",
              "      <th>5</th>\n",
              "      <td>B</td>\n",
              "      <td>C</td>\n",
              "      <td>1</td>\n",
              "      <td>0.844466</td>\n",
              "      <td>0.737979</td>\n",
              "    </tr>\n",
              "    <tr>\n",
              "      <th>6</th>\n",
              "      <td>B</td>\n",
              "      <td>E</td>\n",
              "      <td>1</td>\n",
              "      <td>0.786456</td>\n",
              "      <td>0.707412</td>\n",
              "    </tr>\n",
              "    <tr>\n",
              "      <th>7</th>\n",
              "      <td>B</td>\n",
              "      <td>C</td>\n",
              "      <td>1</td>\n",
              "      <td>0.760163</td>\n",
              "      <td>0.709422</td>\n",
              "    </tr>\n",
              "    <tr>\n",
              "      <th>8</th>\n",
              "      <td>B</td>\n",
              "      <td>E</td>\n",
              "      <td>0</td>\n",
              "      <td>0.752278</td>\n",
              "      <td>0.709365</td>\n",
              "    </tr>\n",
              "    <tr>\n",
              "      <th>9</th>\n",
              "      <td>B</td>\n",
              "      <td>E</td>\n",
              "      <td>1</td>\n",
              "      <td>0.790468</td>\n",
              "      <td>0.714065</td>\n",
              "    </tr>\n",
              "  </tbody>\n",
              "</table>\n",
              "</div>"
            ],
            "text/plain": [
              "  x1 x2  y  x1_encode  x2_encode\n",
              "0  A  C  0   0.396660   0.752811\n",
              "1  A  D  0   0.374276   0.359561\n",
              "2  A  D  1   0.385120   0.362976\n",
              "3  A  D  0   0.366503   0.353950\n",
              "4  A  C  1   0.408456   0.704154\n",
              "5  B  C  1   0.844466   0.737979\n",
              "6  B  E  1   0.786456   0.707412\n",
              "7  B  C  1   0.760163   0.709422\n",
              "8  B  E  0   0.752278   0.709365\n",
              "9  B  E  1   0.790468   0.714065"
            ]
          },
          "execution_count": 41,
          "metadata": {},
          "output_type": "execute_result"
        }
      ],
      "source": [
        "# make a new deep copy of scratch_df \n",
        "# so you can run this cell many times w/o errors\n",
        "scratch_df2 = scratch_df.copy()\n",
        "\n",
        "# loop through columns to create new encoded columns\n",
        "for col_name in scratch_df.columns[:-1]:\n",
        "    new_col_name = col_name + '_encode'   \n",
        "    row_val_dict = {}\n",
        "    # create a dictionary of original categorical value:event rate for that value\n",
        "    for level in scratch_df[col_name].unique():\n",
        "        # apply the transform from the dictionary on all rows in the column\n",
        "        # add in a little random noise, can prevent overfitting for rare levels\n",
        "        row_val_dict[level] = (scratch_df[scratch_df[col_name] == level]['y'].mean())\n",
        "    scratch_df2[new_col_name] = scratch_df[col_name].apply(lambda i: row_val_dict[i] + uniform(low=-0.05, high=0.05))   \n",
        "        \n",
        "scratch_df2"
      ]
    }
  ],
  "metadata": {
    "anaconda-cloud": {},
    "kernelspec": {
      "display_name": "Python [conda root]",
      "language": "python",
      "name": "conda-root-py"
    },
    "language_info": {
      "codemirror_mode": {
        "name": "ipython",
        "version": 3
      },
      "file_extension": ".py",
      "mimetype": "text/x-python",
      "name": "python",
      "nbconvert_exporter": "python",
      "pygments_lexer": "ipython3",
      "version": "3.5.2"
    },
    "colab": {
      "name": "target_encode_categorical.ipynb",
      "provenance": [],
      "collapsed_sections": [],
      "include_colab_link": true
    }
  },
  "nbformat": 4,
  "nbformat_minor": 0
}